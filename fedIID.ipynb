{
  "nbformat": 4,
  "nbformat_minor": 0,
  "metadata": {
    "colab": {
      "provenance": []
    },
    "kernelspec": {
      "name": "python3",
      "display_name": "Python 3"
    },
    "language_info": {
      "name": "python"
    }
  },
  "cells": [
    {
      "cell_type": "code",
      "execution_count": null,
      "metadata": {
        "id": "zW8UUpBkCma4"
      },
      "outputs": [],
      "source": [
        "import torch\n",
        "from torchvision import datasets, transforms\n",
        "from torch.utils.data import DataLoader, Dataset\n",
        "import numpy as np"
      ]
    },
    {
      "cell_type": "code",
      "source": [
        "def minstIID(dataset, num_users):\n",
        "    images = int(len(dataset)/num_users)\n",
        "    users_dict, indeces = {}, [i for i in range(len(dataset))]\n",
        "    for i in range(num_users):\n",
        "        np.random.seed(i)\n",
        "        users_dict[i] = set(np.random.choice(indeces, images, replace=False))\n",
        "        indeces = list(set(indeces) - users_dict[i])\n",
        "    return users_dict"
      ],
      "metadata": {
        "id": "5Q6kvDrbCtIN"
      },
      "execution_count": null,
      "outputs": []
    },
    {
      "cell_type": "code",
      "source": [
        "def load_dataset(num_users):\n",
        "    print('Hello and Welcome')\n",
        "    tranform = transforms.Compose([transforms.ToTensor(), transforms.Normalize((0.1307,), (0.3081,))])\n",
        "    train_dataset = datasets.MNIST('./data', train=True, download=True, transform=tranform)\n",
        "    test_dataset = datasets.MNIST('./data', train=False, download=True, transform=tranform)\n",
        "    train_group= minstIID(train_dataset,num_users)\n",
        "    test_group= minstIID(test_dataset,num_users)\n",
        "    return train_dataset, test_dataset, train_group, test_group"
      ],
      "metadata": {
        "id": "aDnGFU5eCt8Z"
      },
      "execution_count": null,
      "outputs": []
    },
    {
      "cell_type": "code",
      "source": [
        "class FedDataset( Dataset):\n",
        "    def __init__(self, dataset, indx):\n",
        "        self.dataset=dataset\n",
        "        self.indx=[int(i) for i in indx]\n",
        "    \n",
        "    def __len__(self):\n",
        "        return len(self.indx)\n",
        "    \n",
        "    def __getitem__(self, item):\n",
        "        images, label=self.dataset[self.indx[item]]\n",
        "        return torch.tensor(images).clone().detach(), torch.tensor(label).clone().detach()\n",
        "    "
      ],
      "metadata": {
        "id": "RijWFsyVCxtK"
      },
      "execution_count": null,
      "outputs": []
    },
    {
      "cell_type": "code",
      "source": [
        "def getActualImgs(dataset, indeces, batch_size):\n",
        "    return DataLoader(FedDataset(dataset ,indeces) , batch_size=batch_size, shuffle=True)"
      ],
      "metadata": {
        "id": "kir1dtIICz6y"
      },
      "execution_count": null,
      "outputs": []
    },
    {
      "cell_type": "code",
      "source": [
        "train_dataset, test_dataset, train_group, test_group=load_dataset(10)"
      ],
      "metadata": {
        "colab": {
          "base_uri": "https://localhost:8080/"
        },
        "id": "wfxSOc0lC6D1",
        "outputId": "5ff78304-88cb-44c8-a178-4ea17b417e49"
      },
      "execution_count": null,
      "outputs": [
        {
          "output_type": "stream",
          "name": "stdout",
          "text": [
            "Hello and Welcome\n"
          ]
        }
      ]
    },
    {
      "cell_type": "code",
      "source": [
        "first_client_batches=getActualImgs(train_dataset, train_group[0], 64)"
      ],
      "metadata": {
        "id": "902wOtVNDPK6"
      },
      "execution_count": null,
      "outputs": []
    },
    {
      "cell_type": "code",
      "source": [
        "for images, labels in first_client_batches:\n",
        "    print(len(images))\n",
        "    break"
      ],
      "metadata": {
        "colab": {
          "base_uri": "https://localhost:8080/"
        },
        "id": "R9W-LQSKC87L",
        "outputId": "82f41f37-4fd4-40bd-9376-d6da5573fac2"
      },
      "execution_count": null,
      "outputs": [
        {
          "output_type": "stream",
          "name": "stdout",
          "text": [
            "64\n"
          ]
        },
        {
          "output_type": "stream",
          "name": "stderr",
          "text": [
            "<ipython-input-15-8c6ecfb6927a>:11: UserWarning: To copy construct from a tensor, it is recommended to use sourceTensor.clone().detach() or sourceTensor.clone().detach().requires_grad_(True), rather than torch.tensor(sourceTensor).\n",
            "  return torch.tensor(images).clone().detach(), torch.tensor(label).clone().detach()\n"
          ]
        }
      ]
    }
  ]
}